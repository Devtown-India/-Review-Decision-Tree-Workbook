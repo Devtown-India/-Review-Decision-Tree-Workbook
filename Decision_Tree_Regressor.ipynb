{
  "nbformat": 4,
  "nbformat_minor": 0,
  "metadata": {
    "colab": {
      "name": "Decision Tree Regressor.ipynb",
      "provenance": []
    },
    "kernelspec": {
      "name": "python3",
      "display_name": "Python 3"
    }
  },
  "cells": [
    {
      "cell_type": "markdown",
      "metadata": {
        "id": "VuZlsNxwcKQe",
        "colab_type": "text"
      },
      "source": [
        "### This tutorial is divided into following sections:\n",
        "\n",
        "\n",
        "1.   Implementing Decision Tree from scratch\n",
        "2.   Implementing Decision Tree using scikit-learn\n",
        "3.   Implementing Decision Tree using Tensorflow\n",
        "\n"
      ]
    },
    {
      "cell_type": "markdown",
      "metadata": {
        "id": "jFXZUoRoiRtC",
        "colab_type": "text"
      },
      "source": [
        "## Importing necessary library and dataset "
      ]
    },
    {
      "cell_type": "code",
      "metadata": {
        "id": "pvdJ1a2QWt8U",
        "colab_type": "code",
        "colab": {}
      },
      "source": [
        "import numpy as np\n",
        "import matplotlib.pyplot as plt"
      ],
      "execution_count": 5,
      "outputs": []
    },
    {
      "cell_type": "code",
      "metadata": {
        "id": "sQs5O1u_WWtW",
        "colab_type": "code",
        "colab": {}
      },
      "source": [
        "from sklearn.datasets import load_boston\n",
        "data=load_boston()\n",
        "x=data['data'][:100]\n",
        "y=data['target'][:100]"
      ],
      "execution_count": 106,
      "outputs": []
    },
    {
      "cell_type": "markdown",
      "metadata": {
        "id": "FQr32ceecULB",
        "colab_type": "text"
      },
      "source": [
        "Decision Tree Regressor has fefw things in common with Decision Tree Classifier.\n",
        "Decision Tree Regressor can be differentiated with splitting of data.In decisoin tree regressor mean squared error is used insted of gini index.\n",
        "\n",
        "\n",
        "Mean Squared Error function in below class does following task:\n",
        "calculates mean squared error for each group i.e. right group and left group.\n",
        "And returns sum of meean sqaured error.This error is passed to get_split function and split is formed where mse is small.\n",
        "\n",
        "Predict value is given by mean of target value in group.\n",
        "\n"
      ]
    },
    {
      "cell_type": "code",
      "metadata": {
        "id": "_5vhnvt2VVi8",
        "colab_type": "code",
        "colab": {}
      },
      "source": [
        "class DecisionTreeRegressor():\n",
        "\n",
        "  def __init__(self,max_depth,depth=1,min_size=1):\n",
        "    self.max_depth=max_depth\n",
        "    self.depth=depth\n",
        "    self.min_size=min_size\n",
        "\n",
        "  def fit(self,x,y):\n",
        "    self.x=x\n",
        "    self.y=y\n",
        "\n",
        "    self.train=np.concatenate((x,y),axis=1)\n",
        "    self.build_tree(self.train,self.max_depth,self.min_size)\n",
        "\n",
        "  def mean_squared_error(self,groups, classes):\n",
        "    n_instances = float(sum([len(group) for group in groups]))\n",
        "    \n",
        "    error = 0.0\n",
        "    for group in groups:\n",
        "      size = float(len(group))\n",
        "      if size == 0:\n",
        "        continue\n",
        "      score = 0.0\n",
        "      target=[row[-1] for row in group]\n",
        "      #print(target)\n",
        "      mean=sum(target)/len(target)\n",
        "      for class_val in target:\n",
        "        score += (mean-class_val)**2\n",
        "      \n",
        "      #Error is weight sum \n",
        "      error+=score/len(group)*(size)/n_instances\n",
        "    \n",
        "    return error\n",
        "\n",
        "  def test_split(self,index, value, dataset):\n",
        "    left, right = list(), list()\n",
        "    left_value,right_value = list(),list()\n",
        "    for row in dataset:\n",
        "      if row[index] < value:\n",
        "        left.append(row)\n",
        "      else:\n",
        "        right.append(row)\n",
        "    #print(left,right)\n",
        "    return left, right\n",
        "\n",
        "  def get_split(self,dataset):\n",
        "    class_values = list(set(row[-1] for row in dataset))\n",
        "    b_index, b_value, b_score, b_groups = 999, 999, 99999999999999, None\n",
        "    for index in range(len(dataset[0])-1):\n",
        "      for row in dataset:\n",
        "        groups = self.test_split(index, row[index], dataset)\n",
        "        error = self.mean_squared_error(groups, class_values)\n",
        "        if error < b_score:\n",
        "          b_index, b_value, b_score, b_groups = index, row[index], error, groups\n",
        "    return {'index':b_index, 'value':b_value, 'groups':b_groups}\n",
        "\n",
        "  def to_terminal(self,group):\n",
        "    #Calculaing mean value of group\n",
        "    outcomes = sum([row[-1] for row in group])/len(group)\n",
        "    return outcomes\n",
        "\n",
        "  def split(self,node, max_depth, min_size, depth):\n",
        "    left, right = node['groups']\n",
        "    del(node['groups'])\n",
        "   \n",
        "    if not left or not right:\n",
        "      node['left'] = node['right'] = self.to_terminal(left + right)\n",
        "      return\n",
        "   \n",
        "    if depth >= max_depth:\n",
        "      node['left'], node['right'] = self.to_terminal(left), self.to_terminal(right)\n",
        "      return\n",
        "   \n",
        "    if len(left) <= min_size:\n",
        "      node['left'] = self.to_terminal(left)\n",
        "    else:\n",
        "      node['left'] = self.get_split(left)\n",
        "      self.split(node['left'], max_depth, min_size, depth+1)\n",
        "   \n",
        "    if len(right) <= min_size:\n",
        "      node['right'] = self.to_terminal(right)\n",
        "    else:\n",
        "      node['right'] = self.get_split(right)\n",
        "      self.split(node['right'], max_depth, min_size, depth+1)\n",
        "    \n",
        "\n",
        "  def build_tree(self,train, max_depth, min_size):\n",
        "    self.node = self.get_split(train)\n",
        "    self.split(self.node, max_depth, min_size, 1)\n",
        "\n",
        "\n",
        "  def predict(self,x):\n",
        "    results=np.array([0]*len(x))\n",
        "\n",
        "    for i,row in enumerate(x):\n",
        "      results[i]=self._get_prediction(self.node,row)\n",
        "\n",
        "    return results\n",
        "\n",
        "  def _get_prediction(self, node,row):\n",
        "    if row[node['index']] < node['value']:\n",
        "      if isinstance(node['left'], dict):\n",
        "        return self._get_prediction(node['left'], row)\n",
        "      else:\n",
        "        return node['left']\n",
        "    else:\n",
        "      if isinstance(node['right'], dict):\n",
        "        return self._get_prediction(node['right'], row)\n",
        "      else:\n",
        "        return node['right']\n"
      ],
      "execution_count": 116,
      "outputs": []
    },
    {
      "cell_type": "code",
      "metadata": {
        "id": "FymGUCKYWk_9",
        "colab_type": "code",
        "colab": {}
      },
      "source": [
        "regressor=DecisionTreeRegressor(max_depth=5)\n",
        "regressor.fit(x,y.reshape(-1,1))"
      ],
      "execution_count": 117,
      "outputs": []
    },
    {
      "cell_type": "code",
      "metadata": {
        "id": "0kcMjmPoWsNc",
        "colab_type": "code",
        "colab": {
          "base_uri": "https://localhost:8080/",
          "height": 284
        },
        "outputId": "d7784457-118a-4d57-c542-771448a027ff"
      },
      "source": [
        "pred=regressor.predict(x)\n",
        "plt.plot(pred,color='red')\n",
        "plt.plot(y)"
      ],
      "execution_count": 118,
      "outputs": [
        {
          "output_type": "execute_result",
          "data": {
            "text/plain": [
              "[<matplotlib.lines.Line2D at 0x7f5ed9e3d940>]"
            ]
          },
          "metadata": {
            "tags": []
          },
          "execution_count": 118
        },
        {
          "output_type": "display_data",
          "data": {
            "image/png": "[encoded data removed]",
            "text/plain": [
              "<Figure size 432x288 with 1 Axes>"
            ]
          },
          "metadata": {
            "tags": [],
            "needs_background": "light"
          }
        }
      ]
    },
    {
      "cell_type": "markdown",
      "metadata": {
        "id": "dYUQC10ikit9",
        "colab_type": "text"
      },
      "source": [
        "# Implementing Decision Tree using Scikit-Learn\n",
        "\n",
        "Scikit-Learn has inbuilt DecisionTreeClassifier model which can be imported by using following line of code:"
      ]
    },
    {
      "cell_type": "code",
      "metadata": {
        "id": "FIn_I90DaAaX",
        "colab_type": "code",
        "colab": {}
      },
      "source": [
        "from sklearn.tree import DecisionTreeRegressor"
      ],
      "execution_count": 119,
      "outputs": []
    },
    {
      "cell_type": "markdown",
      "metadata": {
        "id": "ufeSrJ6rlEYm",
        "colab_type": "text"
      },
      "source": [
        "## Paramters/Arguments\n",
        "As we implemented DecisionTreeRegressor and it has some arguments or parameter such as max_depth,depth,min_size. Similarly scikit-learn's decision tree also has parameters.Some of them are as follows:\n",
        "\n",
        "1. criterion : 'mse' or 'mae' or 'friedman_mse' criteria used to reduce variance\n",
        "\n",
        "2. max_depth : The maximum depth of the tree. If None, then nodes are expanded until all leaves are pure or until all leaves contain less than min_samples_split samples.\n",
        "\n",
        "3. min_samples_split : int or float, default=2\n",
        " The minimum number of samples required to split an internal node:\n",
        "If int, then consider min_samples_split as the minimum number.\n",
        "If float, then min_samples_split is a fraction and ceil(min_samples_split * n_samples) are the minimum number of samples for each split.\n",
        "\n",
        "\n",
        "4. min_samples_leaf : int or float, default=1\n",
        "The minimum number of samples required to be at a leaf node. A split point at any depth will only be considered if it leaves at least min_samples_leaf training samples in each of the left and right branches. This may have the effect of smoothing the model, especially in regression.\n",
        "If int, then consider min_samples_leaf as the minimum number.\n",
        "If float, then min_samples_leaf is a fraction and ceil(min_samples_leaf * n_samples) are the minimum number of samples for each node. \n",
        "\n",
        "5. max_leaf_nodes : int, default=None\n",
        "Grow a tree with max_leaf_nodes in best-first fashion. Best nodes are defined as relative reduction in impurity. If None then unlimited number of leaf nodes."
      ]
    },
    {
      "cell_type": "code",
      "metadata": {
        "id": "Hyf4NWGnXW2q",
        "colab_type": "code",
        "colab": {
          "base_uri": "https://localhost:8080/",
          "height": 284
        },
        "outputId": "35509aae-df07-4b9b-b383-c474376358b0"
      },
      "source": [
        "regressor=DecisionTreeRegressor(max_depth=5)\n",
        "regressor.fit(x,y)\n",
        "pred=regressor.predict(x)\n",
        "plt.plot(pred)\n",
        "plt.plot(y)"
      ],
      "execution_count": 120,
      "outputs": [
        {
          "output_type": "execute_result",
          "data": {
            "text/plain": [
              "[<matplotlib.lines.Line2D at 0x7f5ed9de67f0>]"
            ]
          },
          "metadata": {
            "tags": []
          },
          "execution_count": 120
        },
        {
          "output_type": "display_data",
          "data": {
            "image/png": "[encoded data removed]",
            "text/plain": [
              "<Figure size 432x288 with 1 Axes>"
            ]
          },
          "metadata": {
            "tags": [],
            "needs_background": "light"
          }
        }
      ]
    },
    {
      "cell_type": "markdown",
      "metadata": {
        "id": "j4uHyeL2l6Uw",
        "colab_type": "text"
      },
      "source": [
        "# Implementing Decision Tree using Tensorflow \n",
        "Tensorflow also contains inbuilt model for decision tree.The following line of code can be used to import it."
      ]
    },
    {
      "cell_type": "code",
      "metadata": {
        "id": "0UBZO_Oyerln",
        "colab_type": "code",
        "colab": {}
      },
      "source": [
        "import tensorflow as tf\n",
        "from tensorflow.estimator import BoostedTreesRegressor"
      ],
      "execution_count": 121,
      "outputs": []
    },
    {
      "cell_type": "markdown",
      "metadata": {
        "id": "eB4ilEvbmD8R",
        "colab_type": "text"
      },
      "source": [
        "## Defining Dataset parameters and building\n",
        "\n",
        "Before instantiating regressor we must give names to our feature columns because BoostedTreesRegressor accepts dataset in such a way. "
      ]
    },
    {
      "cell_type": "code",
      "metadata": {
        "id": "YO9pfwI3l9z8",
        "colab_type": "code",
        "colab": {}
      },
      "source": [
        "# Dataset parameters.\n",
        "num_features = 13 # data features size.\n",
        "\n",
        "# Training parameters.\n",
        "max_steps = 200\n",
        "batch_size = 2\n",
        "learning_rate = 1.0\n",
        "l1_regul = 0.0\n",
        "l2_regul = 0.1\n",
        "\n",
        "# GBDT parameters.\n",
        "num_batches_per_layer = 4\n",
        "num_trees = 1\n",
        "max_depth = 5"
      ],
      "execution_count": 122,
      "outputs": []
    },
    {
      "cell_type": "markdown",
      "metadata": {
        "id": "_gTfb0rpm8Zf",
        "colab_type": "text"
      },
      "source": [
        "## Building Input Function:"
      ]
    },
    {
      "cell_type": "code",
      "metadata": {
        "id": "P-fG5Wt7m2yx",
        "colab_type": "code",
        "colab": {
          "base_uri": "https://localhost:8080/",
          "height": 70
        },
        "outputId": "bcfa8e24-2d79-409c-fe8a-5240f4ccd6f8"
      },
      "source": [
        "# Build the input function.\n",
        "train_input_fn = tf.compat.v1.estimator.inputs.numpy_input_fn(\n",
        "    x={'x': x}, y=y,\n",
        "    batch_size=batch_size, num_epochs=None, shuffle=True)\n",
        "\n",
        "test_train_input_fn = tf.compat.v1.estimator.inputs.numpy_input_fn(\n",
        "    x={'x': x}, y=y,\n",
        "    batch_size=batch_size, num_epochs=1, shuffle=False)\n",
        "\n",
        "\n",
        "# GBDT Models from TF Estimator requires 'feature_column' data format.\n",
        "feature_columns = [tf.feature_column.numeric_column(key='x', shape=(num_features,))]"
      ],
      "execution_count": 123,
      "outputs": [
        {
          "output_type": "stream",
          "text": [
            "WARNING:tensorflow:From /usr/local/lib/python3.6/dist-packages/tensorflow/python/util/lazy_loader.py:63: The name tf.estimator.inputs is deprecated. Please use tf.compat.v1.estimator.inputs instead.\n",
            "\n"
          ],
          "name": "stdout"
        }
      ]
    },
    {
      "cell_type": "code",
      "metadata": {
        "id": "MyIbsEH-m6Qi",
        "colab_type": "code",
        "colab": {
          "base_uri": "https://localhost:8080/",
          "height": 188
        },
        "outputId": "772c2b06-50d4-440c-d86e-3d6340421d21"
      },
      "source": [
        "regressor = tf.estimator.BoostedTreesRegressor(\n",
        "    n_batches_per_layer=num_batches_per_layer,\n",
        "    feature_columns=feature_columns,\n",
        "    learning_rate=learning_rate, \n",
        "    n_trees=num_trees,\n",
        "    max_depth=max_depth,\n",
        "    l1_regularization=l1_regul, \n",
        "    l2_regularization=l2_regul\n",
        ")"
      ],
      "execution_count": 125,
      "outputs": [
        {
          "output_type": "stream",
          "text": [
            "INFO:tensorflow:Using default config.\n",
            "WARNING:tensorflow:Using temporary folder as model directory: /tmp/tmp1gy8985h\n",
            "INFO:tensorflow:Using config: {'_model_dir': '/tmp/tmp1gy8985h', '_tf_random_seed': None, '_save_summary_steps': 100, '_save_checkpoints_steps': None, '_save_checkpoints_secs': 600, '_session_config': allow_soft_placement: true\n",
            "graph_options {\n",
            "  rewrite_options {\n",
            "    meta_optimizer_iterations: ONE\n",
            "  }\n",
            "}\n",
            ", '_keep_checkpoint_max': 5, '_keep_checkpoint_every_n_hours': 10000, '_log_step_count_steps': 100, '_train_distribute': None, '_device_fn': None, '_protocol': None, '_eval_distribute': None, '_experimental_distribute': None, '_experimental_max_worker_delay_secs': None, '_session_creation_timeout_secs': 7200, '_service': None, '_cluster_spec': ClusterSpec({}), '_task_type': 'worker', '_task_id': 0, '_global_id_in_cluster': 0, '_master': '', '_evaluation_master': '', '_is_chief': True, '_num_ps_replicas': 0, '_num_worker_replicas': 1}\n"
          ],
          "name": "stdout"
        }
      ]
    },
    {
      "cell_type": "markdown",
      "metadata": {
        "id": "E20m1ZPXnKPc",
        "colab_type": "text"
      },
      "source": [
        "## Training Regressor:\n",
        "Training our regressor using train_input_fn which contains our training data"
      ]
    },
    {
      "cell_type": "code",
      "metadata": {
        "id": "TMYOiG6DnFhg",
        "colab_type": "code",
        "colab": {
          "base_uri": "https://localhost:8080/",
          "height": 759
        },
        "outputId": "9d424617-e748-4350-a48f-92a27637f8c5"
      },
      "source": [
        "regressor.train(input_fn=train_input_fn,max_steps=max_steps)"
      ],
      "execution_count": 126,
      "outputs": [
        {
          "output_type": "stream",
          "text": [
            "WARNING:tensorflow:From /usr/local/lib/python3.6/dist-packages/tensorflow/python/training/training_util.py:236: Variable.initialized_value (from tensorflow.python.ops.variables) is deprecated and will be removed in a future version.\n",
            "Instructions for updating:\n",
            "Use Variable.read_value. Variables in 2.X are initialized automatically both in eager and graph (inside tf.defun) contexts.\n",
            "WARNING:tensorflow:From /usr/local/lib/python3.6/dist-packages/tensorflow_estimator/python/estimator/inputs/queues/feeding_queue_runner.py:65: QueueRunner.__init__ (from tensorflow.python.training.queue_runner_impl) is deprecated and will be removed in a future version.\n",
            "Instructions for updating:\n",
            "To construct input pipelines, use the `tf.data` module.\n",
            "WARNING:tensorflow:From /usr/local/lib/python3.6/dist-packages/tensorflow_estimator/python/estimator/inputs/queues/feeding_functions.py:491: add_queue_runner (from tensorflow.python.training.queue_runner_impl) is deprecated and will be removed in a future version.\n",
            "Instructions for updating:\n",
            "To construct input pipelines, use the `tf.data` module.\n",
            "INFO:tensorflow:Calling model_fn.\n",
            "INFO:tensorflow:Done calling model_fn.\n",
            "INFO:tensorflow:Create CheckpointSaverHook.\n",
            "WARNING:tensorflow:Issue encountered when serializing resources.\n",
            "Type is unsupported, or the types of the items don't match field type in CollectionDef. Note this is a warning and probably safe to ignore.\n",
            "'_Resource' object has no attribute 'name'\n",
            "INFO:tensorflow:Graph was finalized.\n",
            "INFO:tensorflow:Running local_init_op.\n",
            "INFO:tensorflow:Done running local_init_op.\n",
            "WARNING:tensorflow:From /usr/local/lib/python3.6/dist-packages/tensorflow/python/training/monitored_session.py:906: start_queue_runners (from tensorflow.python.training.queue_runner_impl) is deprecated and will be removed in a future version.\n",
            "Instructions for updating:\n",
            "To construct input pipelines, use the `tf.data` module.\n",
            "WARNING:tensorflow:Issue encountered when serializing resources.\n",
            "Type is unsupported, or the types of the items don't match field type in CollectionDef. Note this is a warning and probably safe to ignore.\n",
            "'_Resource' object has no attribute 'name'\n",
            "INFO:tensorflow:Calling checkpoint listeners before saving checkpoint 0...\n",
            "INFO:tensorflow:Saving checkpoints for 0 into /tmp/tmp1gy8985h/model.ckpt.\n",
            "WARNING:tensorflow:Issue encountered when serializing resources.\n",
            "Type is unsupported, or the types of the items don't match field type in CollectionDef. Note this is a warning and probably safe to ignore.\n",
            "'_Resource' object has no attribute 'name'\n",
            "INFO:tensorflow:Calling checkpoint listeners after saving checkpoint 0...\n",
            "INFO:tensorflow:loss = 473.78, step = 0\n",
            "WARNING:tensorflow:It seems that global step (tf.train.get_global_step) has not been increased. Current value (could be stable): 0 vs previous value: 0. You could increase the global step by passing tf.train.get_global_step() to Optimizer.apply_gradients or Optimizer.minimize.\n",
            "WARNING:tensorflow:It seems that global step (tf.train.get_global_step) has not been increased. Current value (could be stable): 0 vs previous value: 0. You could increase the global step by passing tf.train.get_global_step() to Optimizer.apply_gradients or Optimizer.minimize.\n",
            "WARNING:tensorflow:It seems that global step (tf.train.get_global_step) has not been increased. Current value (could be stable): 0 vs previous value: 0. You could increase the global step by passing tf.train.get_global_step() to Optimizer.apply_gradients or Optimizer.minimize.\n",
            "WARNING:tensorflow:It seems that global step (tf.train.get_global_step) has not been increased. Current value (could be stable): 0 vs previous value: 0. You could increase the global step by passing tf.train.get_global_step() to Optimizer.apply_gradients or Optimizer.minimize.\n",
            "INFO:tensorflow:Calling checkpoint listeners before saving checkpoint 20...\n",
            "INFO:tensorflow:Saving checkpoints for 20 into /tmp/tmp1gy8985h/model.ckpt.\n",
            "WARNING:tensorflow:Issue encountered when serializing resources.\n",
            "Type is unsupported, or the types of the items don't match field type in CollectionDef. Note this is a warning and probably safe to ignore.\n",
            "'_Resource' object has no attribute 'name'\n",
            "INFO:tensorflow:Calling checkpoint listeners after saving checkpoint 20...\n",
            "INFO:tensorflow:Loss for final step: 43.638428.\n"
          ],
          "name": "stdout"
        },
        {
          "output_type": "execute_result",
          "data": {
            "text/plain": [
              "<tensorflow_estimator.python.estimator.canned.boosted_trees.BoostedTreesRegressor at 0x7f5eaa5bf828>"
            ]
          },
          "metadata": {
            "tags": []
          },
          "execution_count": 126
        }
      ]
    },
    {
      "cell_type": "markdown",
      "metadata": {
        "id": "DZUwKR3inaFd",
        "colab_type": "text"
      },
      "source": [
        "## Evaluating Regressor:\n",
        "We can evaluate our model using evaluate attribute of regressor<br>\n",
        "Note: Here we are evaluating regressor on training data"
      ]
    },
    {
      "cell_type": "code",
      "metadata": {
        "id": "RdSkaSf9nUeS",
        "colab_type": "code",
        "colab": {
          "base_uri": "https://localhost:8080/",
          "height": 252
        },
        "outputId": "0a56909a-0391-48b0-fed6-1a62562ed1fc"
      },
      "source": [
        "evaluation=regressor.evaluate(test_train_input_fn)"
      ],
      "execution_count": 128,
      "outputs": [
        {
          "output_type": "stream",
          "text": [
            "INFO:tensorflow:Calling model_fn.\n",
            "INFO:tensorflow:Done calling model_fn.\n",
            "INFO:tensorflow:Starting evaluation at 2020-08-22T05:22:45Z\n",
            "INFO:tensorflow:Graph was finalized.\n",
            "INFO:tensorflow:Restoring parameters from /tmp/tmp1gy8985h/model.ckpt-20\n",
            "INFO:tensorflow:Running local_init_op.\n",
            "INFO:tensorflow:Done running local_init_op.\n",
            "INFO:tensorflow:Inference Time : 0.30702s\n",
            "INFO:tensorflow:Finished evaluation at 2020-08-22-05:22:45\n",
            "INFO:tensorflow:Saving dict for global step 20: average_loss = 26.233543, global_step = 20, label/mean = 22.309004, loss = 26.233543, prediction/mean = 21.77447\n",
            "WARNING:tensorflow:Issue encountered when serializing resources.\n",
            "Type is unsupported, or the types of the items don't match field type in CollectionDef. Note this is a warning and probably safe to ignore.\n",
            "'_Resource' object has no attribute 'name'\n",
            "INFO:tensorflow:Saving 'checkpoint_path' summary for global step 20: /tmp/tmp1gy8985h/model.ckpt-20\n"
          ],
          "name": "stdout"
        }
      ]
    },
    {
      "cell_type": "code",
      "metadata": {
        "id": "ZQZ75M_LnkHI",
        "colab_type": "code",
        "colab": {
          "base_uri": "https://localhost:8080/",
          "height": 34
        },
        "outputId": "4e168f9a-257d-4b51-fd96-eef4888badfd"
      },
      "source": [
        "print(evaluation)"
      ],
      "execution_count": 129,
      "outputs": [
        {
          "output_type": "stream",
          "text": [
            "{'average_loss': 26.233543, 'label/mean': 22.309004, 'loss': 26.233543, 'prediction/mean': 21.77447, 'global_step': 20}\n"
          ],
          "name": "stdout"
        }
      ]
    },
    {
      "cell_type": "code",
      "metadata": {
        "id": "H2u9eNkunwBy",
        "colab_type": "code",
        "colab": {
          "base_uri": "https://localhost:8080/",
          "height": 154
        },
        "outputId": "d1e5079d-9c3c-4734-90dc-7ced7bc0195d"
      },
      "source": [
        "#This gives us a generator object\n",
        "pred=regressor.predict(test_train_input_fn)\n",
        "\n",
        "#Converting generator objects to list then accessing predicted value by using 'predictions'\n",
        "results=list(pred)\n",
        "pred=[]\n",
        "for result in results:\n",
        " pred.append(result['predictions'][0])\n",
        "\n",
        "print(pred)"
      ],
      "execution_count": 136,
      "outputs": [
        {
          "output_type": "stream",
          "text": [
            "INFO:tensorflow:Calling model_fn.\n",
            "INFO:tensorflow:Done calling model_fn.\n",
            "INFO:tensorflow:Graph was finalized.\n",
            "INFO:tensorflow:Restoring parameters from /tmp/tmp1gy8985h/model.ckpt-20\n",
            "INFO:tensorflow:Running local_init_op.\n",
            "INFO:tensorflow:Done running local_init_op.\n",
            "[23.062757, 22.91589, 22.91589, 31.48732, 31.48732, 31.48732, 20.127657, 16.527588, 17.402514, 17.402514, 16.527588, 19.25076, 20.127657, 19.005753, 19.005753, 19.005753, 13.152718, 19.005753, 19.005753, 19.005753, 13.152718, 19.005753, 16.527588, 13.152718, 19.005753, 19.005753, 19.005753, 13.152718, 16.527588, 16.527588, 13.152718, 13.152718, 13.152718, 13.152718, 13.152718, 21.699085, 21.699085, 21.699085, 17.402514, 23.062757, 23.062757, 26.936508, 16.527588, 16.527588, 19.25076, 17.402514, 17.402514, 17.402514, 19.005753, 17.402514, 21.699085, 23.062757, 23.062757, 21.699085, 21.699085, 23.062757, 23.062757, 23.062757, 16.527588, 21.699085, 17.402514, 17.402514, 33.45616, 33.45616, 23.062757, 23.062757, 21.699085, 20.127657, 17.402514, 17.402514, 22.91589, 17.402514, 20.127657, 16.527588, 22.91589, 22.91589, 33.45616, 22.91589, 22.91589, 20.127657, 23.062757, 23.062757, 23.062757, 23.062757, 31.48732, 31.48732, 21.699085, 31.48732, 31.48732, 31.48732, 31.48732, 31.48732, 23.062757, 23.062757, 23.062757, 33.45616, 33.45616, 33.45616, 31.48732, 31.48732]\n"
          ],
          "name": "stdout"
        }
      ]
    },
    {
      "cell_type": "code",
      "metadata": {
        "id": "P5SIBETan2FT",
        "colab_type": "code",
        "colab": {
          "base_uri": "https://localhost:8080/",
          "height": 284
        },
        "outputId": "32ce71a3-94c3-4770-f1db-12a00a1cd593"
      },
      "source": [
        "plt.plot(pred)\n",
        "plt.plot(y)"
      ],
      "execution_count": 137,
      "outputs": [
        {
          "output_type": "execute_result",
          "data": {
            "text/plain": [
              "[<matplotlib.lines.Line2D at 0x7f5ea6bef240>]"
            ]
          },
          "metadata": {
            "tags": []
          },
          "execution_count": 137
        },
        {
          "output_type": "display_data",
          "data": {
            "image/png": "[encoded data removed]",
            "text/plain": [
              "<Figure size 432x288 with 1 Axes>"
            ]
          },
          "metadata": {
            "tags": [],
            "needs_background": "light"
          }
        }
      ]
    },
    {
      "cell_type": "code",
      "metadata": {
        "id": "geUenAY4oJ0E",
        "colab_type": "code",
        "colab": {}
      },
      "source": [
        ""
      ],
      "execution_count": null,
      "outputs": []
    }
  ]
}